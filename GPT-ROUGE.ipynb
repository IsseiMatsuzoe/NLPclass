{
 "cells": [
  {
   "cell_type": "markdown",
   "metadata": {},
   "source": [
    "# OpenAI GPTを使った要約のROUGEでの精度検証"
   ]
  },
  {
   "cell_type": "markdown",
   "metadata": {},
   "source": [
    "## 使用するクラスと関数の定義"
   ]
  },
  {
   "cell_type": "markdown",
   "metadata": {},
   "source": [
    "### GPT関連"
   ]
  },
  {
   "cell_type": "code",
   "execution_count": 44,
   "metadata": {},
   "outputs": [],
   "source": [
    "# 所有するOpenAIのAPIキーを記述した.txtファイルのパスを指定してください\n",
    "API_KEY_PATH = r\"C:\\Users\\Issei\\Documents\\API Tokens\\ChatGPT.txt\""
   ]
  },
  {
   "cell_type": "code",
   "execution_count": 45,
   "metadata": {},
   "outputs": [],
   "source": [
    "# Function: Connect to the OpenAI API\n",
    "def ConnectToOpenAI(key_path=None):\n",
    "    \"\"\"\n",
    "    Connect to the OpenAI API\n",
    "    key_path is the path to the file containing the API key (Make sure to have the API key in a .txt file and saved locally)\n",
    "    \"\"\"\n",
    "    from openai import OpenAI\n",
    "    import json\n",
    "    with open(key_path, 'r') as file:\n",
    "        API_KEY = file.read().rstrip()\n",
    "    client = OpenAI(api_key=API_KEY)\n",
    "    response = client.chat.completions.create(\n",
    "        model=\"gpt-3.5-turbo\",\n",
    "        messages=[\n",
    "            {\"role\": \"system\", \"content\": \"You are a program checkpoint to make sure the API is working.\"},\n",
    "            {\"role\": \"user\", \"content\": \"Do you see this? If so, say API is working, Hello World!\"},\n",
    "        ]\n",
    "    )\n",
    "    print(response.choices[0].message.content)\n",
    "    return client\n",
    "\n",
    "# Function: Send a doucuments to be summarized and return summarized text\n",
    "def SummarizeDocument(client, document):\n",
    "    \"\"\"\n",
    "    Summarize a document using the OpenAI API\n",
    "    client: is client object from OpenAI API, use ConnectToOpenAI() to get client object\n",
    "    document: is the text(str) to be summarized\n",
    "    \"\"\"\n",
    "    response = client.chat.completions.create(\n",
    "        model=\"gpt-4o\",\n",
    "        messages=[\n",
    "            {\"role\": \"system\",\n",
    "             \"content\": \"\"\"\n",
    "                        You are a professional summarizer. You will be given a document to summarize from the user.\n",
    "                        Instruction as follows: Input and out put is in Japanese. Summarize the doucument around 100 letters. \n",
    "                        After summarize, count the number of summarized letters, if it is exceed 100 letters or less than 70 letters, summarize again.\n",
    "                        Output Format: Only output the final summarized text.\n",
    "                        \"\"\"},\n",
    "            {\"role\": \"user\", \"content\": document},\n",
    "        ]\n",
    "    )\n",
    "    return response.choices[0].message.content"
   ]
  },
  {
   "cell_type": "markdown",
   "metadata": {},
   "source": [
    "**ここで使用したシステムプロンプト**\n",
    "\n",
    "You are a professional summarizer. You will be given a document to summarize from the user.\n",
    "\n",
    "Instruction as follows: Input and out put is in Japanese. Summarize the doucument around 100 letters. After summarize, count the number of summarized letters, if it is exceed 100 letters, summarize again.\n",
    "\n",
    "Output Format: Only output the final summarized text."
   ]
  },
  {
   "cell_type": "markdown",
   "metadata": {},
   "source": [
    "### MeCabとROUGE関連"
   ]
  },
  {
   "cell_type": "code",
   "execution_count": 46,
   "metadata": {},
   "outputs": [],
   "source": [
    "import fugashi\n",
    "from rouge_score.tokenizers import Tokenizer\n",
    "\n",
    "class MeCabTokenizer(Tokenizer):\n",
    "    def __init__(self, use_stemmer=False):\n",
    "        self._stemmer = use_stemmer\n",
    "        \n",
    "        self.tagger = fugashi.Tagger()\n",
    "        self.wakati = fugashi.Tagger(\"-Owakati\")\n",
    "\n",
    "    def tokenize(self, text):\n",
    "        if self._stemmer:\n",
    "            node = self.tagger.parseToNode(text)\n",
    "            original_forms = []\n",
    "            while node:\n",
    "                feature = node.feature.split(\",\")\n",
    "                original_forms.append(feature[6])\n",
    "                node = node.next\n",
    "\n",
    "            return original_forms\n",
    "        \n",
    "        else:\n",
    "            return self.wakati.parse(text).split()\n",
    "\n",
    "# Function: Calulate ROUGE score with reference\n",
    "def CalculateROUGE(reference, summary):\n",
    "    \"\"\"\n",
    "    Calculate ROUGE score with reference\n",
    "    reference: is the reference summary\n",
    "    summary: is the summary to be evaluated, both in str format\n",
    "    \"\"\"\n",
    "    from rouge_score import rouge_scorer\n",
    "    mecab_tokenizer = MeCabTokenizer()\n",
    "    scorer = rouge_scorer.RougeScorer(['rouge1', 'rouge2', 'rougeL'], use_stemmer=True, tokenizer=mecab_tokenizer)\n",
    "    scores = scorer.score(reference, summary)\n",
    "    return scores\n",
    "\n",
    "# Plot ROUGE score\n",
    "import matplotlib.pyplot as plt\n",
    "import numpy as np\n",
    "\n",
    "def PlotROUGEScore(scores):\n",
    "    \"\"\"\n",
    "    Plot ROUGE score\n",
    "    scores: is the ROUGE score in dict format\n",
    "    \"\"\"\n",
    "    fig, ax = plt.subplots(1, 3, figsize=(13, 5))\n",
    "    ax[0].bar(['Precision', 'Recall', 'fmeasure'], [scores['rouge1'].precision, scores['rouge1'].recall, scores['rouge1'].fmeasure], color=['red', 'orange', 'blue'])\n",
    "    ax[0].set_title('ROUGE-1')\n",
    "    ax[0].set_ylim(0, 1)\n",
    "    ax[1].bar(['Precision', 'Recall', 'fmeasure'], [scores['rouge2'].precision, scores['rouge2'].recall, scores['rouge2'].fmeasure], color=['red', 'orange', 'blue'])\n",
    "    ax[1].set_title('ROUGE-2')\n",
    "    ax[1].set_ylim(0, 1)\n",
    "    ax[2].bar(['Precision', 'Recall', 'fmeasure'], [scores['rougeL'].precision, scores['rougeL'].recall, scores['rougeL'].fmeasure], color=['red', 'orange', 'blue'])\n",
    "    ax[2].set_title('ROUGE-L')\n",
    "    ax[2].set_ylim(0, 1)\n",
    "    return fig"
   ]
  },
  {
   "cell_type": "code",
   "execution_count": 47,
   "metadata": {},
   "outputs": [],
   "source": [
    "# Function: read text file\n",
    "def ReadTextFile(file_path):\n",
    "    \"\"\"\n",
    "    Read text file\n",
    "    file_path: is the path to the text file\n",
    "    \"\"\"\n",
    "    with open(file_path, 'r', encoding='utf-8') as file:\n",
    "        text = file.read()\n",
    "    return text"
   ]
  },
  {
   "cell_type": "markdown",
   "metadata": {},
   "source": [
    "## 10個の要約データから平均ROUGEスコアを計算"
   ]
  },
  {
   "cell_type": "code",
   "execution_count": 48,
   "metadata": {},
   "outputs": [
    {
     "name": "stdout",
     "output_type": "stream",
     "text": [
      "API is working, Hello World!\n",
      "0 現代日本には「文化的貧困」が問題視されており、これは経済的困窮だけでなく、心や感性の貧困を意味する。絶対的貧困や相対的貧困でないが、文化的に豊かさを感じられないとする状況で、例えば「コンビニ弁当しか食べられない」のもその一例である。憲法第25条が示す「健康で文化的な最低限度の生活」は、文化の貧しさゆえに成立しない可能性があると指摘されている。\n",
      "{'rouge1': Score(precision=0.45689655172413796, recall=0.7910447761194029, fmeasure=0.5792349726775956), 'rouge2': Score(precision=0.26956521739130435, recall=0.4696969696969697, fmeasure=0.3425414364640884), 'rougeL': Score(precision=0.3017241379310345, recall=0.5223880597014925, fmeasure=0.3825136612021858)}\n",
      "Done with 0\n",
      "1 英語は世界共通語としての利便性がありますが、「英語帝国主義」としての問題も存在します。日本語には英語で表現しにくい概念や言葉が多く、説明に困ることがあります。例えば、日本の「家」は英語の「family」とは異なる意味を持ち、特定の日本文化を表す言葉も同様です。これは単なる表現の問題ではなく、英語が知識を支配する問題と言えます。\n",
      "{'rouge1': Score(precision=0.3490566037735849, recall=0.6271186440677966, fmeasure=0.4484848484848485), 'rouge2': Score(precision=0.14285714285714285, recall=0.25862068965517243, fmeasure=0.18404907975460125), 'rougeL': Score(precision=0.2358490566037736, recall=0.423728813559322, fmeasure=0.303030303030303)}\n",
      "Done with 1\n",
      "2 日本の外国人労働者受け入れが拡大する中、介護や建設などの人手不足が深刻化。特に介護分野では百万のスタッフ増を目指すが、給与の低さで人が定着しにくい。外国人技能実習制度の問題点も指摘され、適正化が求められている。人口減少の中、外国人の労働力活用が課題となっている。\n",
      "{'rouge1': Score(precision=0.367816091954023, recall=0.5079365079365079, fmeasure=0.42666666666666664), 'rouge2': Score(precision=0.12790697674418605, recall=0.1774193548387097, fmeasure=0.14864864864864866), 'rougeL': Score(precision=0.20689655172413793, recall=0.2857142857142857, fmeasure=0.24000000000000002)}\n",
      "Done with 2\n",
      "3 政府は病気治療と仕事両立の支援を強化する方針。働き方改革実現会議での提案に基づき、がん患者をサポートするトライアングル型支援を推進。離職を防ぐため、企業向け指針も設けられた。\n",
      "{'rouge1': Score(precision=0.5714285714285714, recall=0.45901639344262296, fmeasure=0.5090909090909091), 'rouge2': Score(precision=0.125, recall=0.1, fmeasure=0.11111111111111112), 'rougeL': Score(precision=0.3877551020408163, recall=0.3114754098360656, fmeasure=0.34545454545454546)}\n",
      "Done with 3\n",
      "4 18歳からの選挙権導入に伴い、若者の政治参加が期待されている。日本では少子高齢化が進み、若者の投票率が低いが、選挙権引き下げが変化をもたらす可能性がある。特に被選挙権年齢の引き下げが重要で、若者の政治参加が促進されることが期待される。\n",
      "{'rouge1': Score(precision=0.4266666666666667, recall=0.5714285714285714, fmeasure=0.48854961832061067), 'rouge2': Score(precision=0.13513513513513514, recall=0.18181818181818182, fmeasure=0.15503875968992248), 'rougeL': Score(precision=0.26666666666666666, recall=0.35714285714285715, fmeasure=0.30534351145038163)}\n",
      "Done with 4\n",
      "5 国際社会が人権抑圧的な政権に対して経済封鎖を行うことで、民主化を期待する動きがある。しかし、封鎖によって貧困層が犠牲となり、特にハイチでは児童の栄養失調や健康悪化が深刻化。小児の死亡率増加や食料・医療不足が進行し、教育も大打撃を受けた。一方で、富裕層は特権的手段を利用して影響を免れた。新政府成立後、改善が見られたが、封鎖期間中の犠牲は大きかった。\n",
      "{'rouge1': Score(precision=0.3017241379310345, recall=0.5223880597014925, fmeasure=0.3825136612021858), 'rouge2': Score(precision=0.06086956521739131, recall=0.10606060606060606, fmeasure=0.07734806629834255), 'rougeL': Score(precision=0.1896551724137931, recall=0.3283582089552239, fmeasure=0.24043715846994534)}\n",
      "Done with 5\n",
      "6 〈対話〉は相手を理解しようとする姿勢で、他者との対立を大切に扱うことが重要です。A・B・Cがそれぞれの状況を理解し合う努力をし、自分の視点に固定されずに相手の立場を理解しようとすることが求められます。互いの違いを認識し合いながら、〈対話〉を進めることでより深い理解が生じ、他者の存在が不可欠であることを認識することがカギです。\n",
      "{'rouge1': Score(precision=0.38461538461538464, recall=0.625, fmeasure=0.4761904761904762), 'rouge2': Score(precision=0.14563106796116504, recall=0.23809523809523808, fmeasure=0.18072289156626506), 'rougeL': Score(precision=0.21153846153846154, recall=0.34375, fmeasure=0.2619047619047619)}\n",
      "Done with 6\n",
      "7 漱石は働くことが人間性の一部だけを使うとしながらも働く必要性を説きました。ホームレスが清掃の仕事を得て、人のねぎらいを受け涙した経験から、働くことの根底には「社会で存在を認められる」ことがあると考えます。つまり、働くことは社会的な承認を得る手段であり、他者との相互承認が働く理由となるのです。\n",
      "{'rouge1': Score(precision=0.45161290322580644, recall=0.65625, fmeasure=0.535031847133758), 'rouge2': Score(precision=0.09782608695652174, recall=0.14285714285714285, fmeasure=0.11612903225806452), 'rougeL': Score(precision=0.23655913978494625, recall=0.34375, fmeasure=0.28025477707006374)}\n",
      "Done with 7\n",
      "8 夫婦別姓の導入は、生活上の問題を解決するために重要であり、「例外的夫婦別姓法案」はその第一歩として提案された。反対意見を考慮し、夫婦は同姓を原則とし別姓は例外と位置づけ、家庭裁判所の許可が必要とした。また、すでにある家族問題を解決するため、家族単位ではなく個人に焦点を当てた新しい社会づくりを目指している。この改革は、自己決定に基づく社会を構築するための一環とされる。\n",
      "{'rouge1': Score(precision=0.3416666666666667, recall=0.6307692307692307, fmeasure=0.4432432432432432), 'rouge2': Score(precision=0.10084033613445378, recall=0.1875, fmeasure=0.1311475409836066), 'rougeL': Score(precision=0.23333333333333334, recall=0.4307692307692308, fmeasure=0.3027027027027027)}\n",
      "Done with 8\n",
      "9 夫婦別姓制に反対する理由は、家族の価値を軽視し、個人主義が行き過ぎるからだ。通称使用を認めれば不便は解消可能で、別姓が必要とは言えない。また、スウェーデンの事例から、家族形態の緩和が社会問題を引き起こす可能性も示されている。家族の結びつきを強化する法制度改革を提案し、家族共同体を重視すべきだと考える。\n",
      "{'rouge1': Score(precision=0.34065934065934067, recall=0.5081967213114754, fmeasure=0.4078947368421053), 'rouge2': Score(precision=0.1, recall=0.15, fmeasure=0.12), 'rougeL': Score(precision=0.23076923076923078, recall=0.3442622950819672, fmeasure=0.27631578947368424)}\n",
      "Done with 9\n",
      "All done!\n"
     ]
    }
   ],
   "source": [
    "# For loop to summarize multiple documents\n",
    "client = ConnectToOpenAI(API_KEY_PATH)\n",
    "\n",
    "# summed ROUGE score in rouge_score format\n",
    "summed_ROUGE = {\n",
    "'rouge1': {'precision': 0.0, 'recall': 0.0, 'fmeasure': 0.0},\n",
    "'rouge2': {'precision': 0.0, 'recall': 0.0, 'fmeasure': 0.0},\n",
    "'rougeL': {'precision': 0.0, 'recall': 0.0, 'fmeasure': 0.0}\n",
    "}\n",
    "\n",
    "for i in range(0, 10):\n",
    "    # Read document and reference\n",
    "    document_path = \"Data/doc/doc-\" + str(i) + \".txt\"\n",
    "    ref_path = \"Data/ref/ref-\" + str(i) + \".txt\"\n",
    "    document = ReadTextFile(document_path)\n",
    "    reference = ReadTextFile(ref_path)\n",
    "\n",
    "    # Suumarize document\n",
    "    summary = SummarizeDocument(client, document)\n",
    "    print(i, summary) # Check the summary\n",
    "\n",
    "    # Calculate ROUGE score\n",
    "    scores = CalculateROUGE(reference, summary)\n",
    "    print(scores)\n",
    "\n",
    "    # Save ROUGE score plot\n",
    "    plot = PlotROUGEScore(scores)\n",
    "    plot.savefig(\"Data/plot/plot-\" + str(i) + \".png\")\n",
    "    plt.close()\n",
    "\n",
    "    # Save summary\n",
    "    with open(\"Data/sum/sum-\" + str(i) + \".txt\", 'w') as file:\n",
    "        file.write(summary)\n",
    "    print(\"Done with\", i)\n",
    "\n",
    "    # sum up ROUGE scores for each document\n",
    "    summed_ROUGE['rouge1']['precision'] += scores['rouge1'].precision\n",
    "    summed_ROUGE['rouge1']['recall'] += scores['rouge1'].recall\n",
    "    summed_ROUGE['rouge1']['fmeasure'] += scores['rouge1'].fmeasure\n",
    "    summed_ROUGE['rouge2']['precision'] += scores['rouge2'].precision\n",
    "    summed_ROUGE['rouge2']['recall'] += scores['rouge2'].recall\n",
    "    summed_ROUGE['rouge2']['fmeasure'] += scores['rouge2'].fmeasure\n",
    "    summed_ROUGE['rougeL']['precision'] += scores['rougeL'].precision\n",
    "    summed_ROUGE['rougeL']['recall'] += scores['rougeL'].recall\n",
    "    summed_ROUGE['rougeL']['fmeasure'] += scores['rougeL'].fmeasure\n",
    "print(\"All done!\")"
   ]
  },
  {
   "cell_type": "code",
   "execution_count": 49,
   "metadata": {},
   "outputs": [
    {
     "data": {
      "image/png": "[encoded data removed]",
      "text/plain": [
       "<Figure size 1300x500 with 3 Axes>"
      ]
     },
     "metadata": {},
     "output_type": "display_data"
    }
   ],
   "source": [
    "# Plot summed ROUGE score\n",
    "# Calculate average ROUGE score (n=10)\n",
    "summed_ROUGE['rouge1']['precision'] /= 10\n",
    "summed_ROUGE['rouge1']['recall'] /= 10\n",
    "summed_ROUGE['rouge1']['fmeasure'] /= 10\n",
    "summed_ROUGE['rouge2']['precision'] /= 10\n",
    "summed_ROUGE['rouge2']['recall'] /= 10\n",
    "summed_ROUGE['rouge2']['fmeasure'] /= 10\n",
    "summed_ROUGE['rougeL']['precision'] /= 10\n",
    "summed_ROUGE['rougeL']['recall'] /= 10\n",
    "summed_ROUGE['rougeL']['fmeasure'] /= 10\n",
    "\n",
    "# Plot summed ROUGE score in dict format\n",
    "fig, ax = plt.subplots(1, 3, figsize=(13, 5))\n",
    "ax[0].bar(['Precision', 'Recall', 'fmeasure'], [summed_ROUGE['rouge1']['precision'], summed_ROUGE['rouge1']['recall'], summed_ROUGE['rouge1']['fmeasure']], color=['red', 'orange', 'blue'])\n",
    "ax[0].set_title('ROUGE-1')\n",
    "ax[0].set_ylim(0, 1)\n",
    "ax[1].bar(['Precision', 'Recall', 'fmeasure'], [summed_ROUGE['rouge2']['precision'], summed_ROUGE['rouge2']['recall'], summed_ROUGE['rouge2']['fmeasure']], color=['red', 'orange', 'blue'])\n",
    "ax[1].set_title('ROUGE-2')\n",
    "ax[1].set_ylim(0, 1)\n",
    "ax[2].bar(['Precision', 'Recall', 'fmeasure'], [summed_ROUGE['rougeL']['precision'], summed_ROUGE['rougeL']['recall'], summed_ROUGE['rougeL']['fmeasure']], color=['red', 'orange', 'blue'])\n",
    "ax[2].set_title('ROUGE-L')\n",
    "ax[2].set_ylim(0, 1)\n",
    "fig.suptitle(\"Average ROUGE Score\")\n",
    "fig.savefig(\"Data/plot/plot-sum.png\")"
   ]
  }
 ],
 "metadata": {
  "kernelspec": {
   "display_name": "Python 3",
   "language": "python",
   "name": "python3"
  },
  "language_info": {
   "codemirror_mode": {
    "name": "ipython",
    "version": 3
   },
   "file_extension": ".py",
   "mimetype": "text/x-python",
   "name": "python",
   "nbconvert_exporter": "python",
   "pygments_lexer": "ipython3",
   "version": "3.11.9"
  }
 },
 "nbformat": 4,
 "nbformat_minor": 2
}
