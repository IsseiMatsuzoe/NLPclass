{
 "cells": [
  {
   "cell_type": "markdown",
   "metadata": {},
   "source": [
    "# Development Notebook\n",
    "to test codes and functions\n",
    "\n",
    "* Data Ref: https://note.com/natsunonukegara0/m/md7e3a708fc87"
   ]
  },
  {
   "cell_type": "markdown",
   "metadata": {},
   "source": [
    "## Test functions related with OpenAI API key"
   ]
  },
  {
   "cell_type": "code",
   "execution_count": 84,
   "metadata": {},
   "outputs": [],
   "source": [
    "API_KEY_PATH = r\"C:\\Users\\Issei\\Documents\\API Tokens\\ChatGPT.txt\""
   ]
  },
  {
   "cell_type": "code",
   "execution_count": 85,
   "metadata": {},
   "outputs": [],
   "source": [
    "# Function: Connect to the OpenAI API\n",
    "def ConnectToOpenAI(key_path=None):\n",
    "    \"\"\"\n",
    "    Connect to the OpenAI API\n",
    "    key_path is the path to the file containing the API key (Make sure to have the API key in a .txt file and saved locally)\n",
    "    \"\"\"\n",
    "    from openai import OpenAI\n",
    "    import json\n",
    "    with open(key_path, 'r') as file:\n",
    "        API_KEY = file.read().rstrip()\n",
    "    client = OpenAI(api_key=API_KEY)\n",
    "    response = client.chat.completions.create(\n",
    "        model=\"gpt-3.5-turbo\",\n",
    "        messages=[\n",
    "            {\"role\": \"system\", \"content\": \"You are a program checkpoint to make sure the API is working.\"},\n",
    "            {\"role\": \"user\", \"content\": \"Do you see this? If so, say API is working, Hello World!\"},\n",
    "        ]\n",
    "    )\n",
    "    print(response.choices[0].message.content)\n",
    "    return client"
   ]
  },
  {
   "cell_type": "code",
   "execution_count": 86,
   "metadata": {},
   "outputs": [
    {
     "name": "stdout",
     "output_type": "stream",
     "text": [
      "API is working, Hello World!\n"
     ]
    }
   ],
   "source": [
    "client = ConnectToOpenAI(API_KEY_PATH)"
   ]
  },
  {
   "cell_type": "code",
   "execution_count": 87,
   "metadata": {},
   "outputs": [],
   "source": [
    "# Function: Send a doucuments to be summarized and return summarized text\n",
    "def SummarizeDocument(client, document):\n",
    "    \"\"\"\n",
    "    Summarize a document using the OpenAI API\n",
    "    client: is client object from OpenAI API, use ConnectToOpenAI() to get client object\n",
    "    document: is the text(str) to be summarized\n",
    "    \"\"\"\n",
    "    response = client.chat.completions.create(\n",
    "        model=\"gpt-4o\",\n",
    "        messages=[\n",
    "            {\"role\": \"system\",\n",
    "             \"content\": \"\"\"\n",
    "                        You are a professional summarizer. You will be given a document to summarize from the user.\n",
    "                        Instruction as follows: Input and out put is in Japanese. Summarize the doucument around 100 letters. \n",
    "                        After summarize, count the number of summarized letters, if it is exceed 100 letters or less than 70 letters, summarize again.\n",
    "                        Output Format: Only output the final summarized text.\n",
    "                        \"\"\"},\n",
    "            {\"role\": \"user\", \"content\": document},\n",
    "        ]\n",
    "    )\n",
    "    return response.choices[0].message.content"
   ]
  },
  {
   "cell_type": "markdown",
   "metadata": {},
   "source": [
    "* Prompt 1\n",
    "\n",
    "\"\"\"\n",
    "                        You are a professional summarizer. You will be given a document to summarize from the user.\n",
    "                        Instruction as follows: Input and out put is in Japanese. Summarize the doucument around 100 letters. \n",
    "                        After summarize, count the number of summarized letters, if it is exceed 100 letters, summarize again.\n",
    "                        \"\"\""
   ]
  },
  {
   "cell_type": "markdown",
   "metadata": {},
   "source": [
    "MeCabを使ってトークナイゼーションを行う"
   ]
  },
  {
   "cell_type": "code",
   "execution_count": 88,
   "metadata": {},
   "outputs": [],
   "source": [
    "import fugashi\n",
    "from rouge_score.tokenizers import Tokenizer\n",
    "\n",
    "class MeCabTokenizer(Tokenizer):\n",
    "    def __init__(self, use_stemmer=False):\n",
    "        self._stemmer = use_stemmer\n",
    "        \n",
    "        self.tagger = fugashi.Tagger()\n",
    "        self.wakati = fugashi.Tagger(\"-Owakati\")\n",
    "\n",
    "    def tokenize(self, text):\n",
    "        if self._stemmer:\n",
    "            node = self.tagger.parseToNode(text)\n",
    "            original_forms = []\n",
    "            while node:\n",
    "                feature = node.feature.split(\",\")\n",
    "                original_forms.append(feature[6])\n",
    "                node = node.next\n",
    "\n",
    "            return original_forms\n",
    "        \n",
    "        else:\n",
    "            return self.wakati.parse(text).split()"
   ]
  },
  {
   "cell_type": "code",
   "execution_count": 89,
   "metadata": {},
   "outputs": [],
   "source": [
    "# Function: Calulate ROUGE score with reference\n",
    "def CalculateROUGE(reference, summary):\n",
    "    \"\"\"\n",
    "    Calculate ROUGE score with reference\n",
    "    reference: is the reference summary\n",
    "    summary: is the summary to be evaluated, both in str format\n",
    "    \"\"\"\n",
    "    mecab_tokenizer = MeCabTokenizer()\n",
    "    from rouge_score import rouge_scorer\n",
    "    scorer = rouge_scorer.RougeScorer(['rouge1', 'rouge2', 'rougeL'], use_stemmer=True, tokenizer=mecab_tokenizer)\n",
    "    scores = scorer.score(reference, summary)\n",
    "    return scores"
   ]
  },
  {
   "cell_type": "code",
   "execution_count": 90,
   "metadata": {},
   "outputs": [],
   "source": [
    "example1 = \"一般的に「貧困」と言えば、それには大きく二つの場合がある。一つは絶対的貧困で、もう一つが相対的貧困である。しかし、現代日本社会にはそのほかに「文化的貧困」があるとされ、問題視されている。なお絶対的貧困とは生命を維持するために最低限必要な衣食住が満ち足りていない状態のことを指す。主に発展途上国に見られる貧困であり、飢餓で苦しむ人々やストリートチルドレン等がこれに該当する。一方、相対的貧困とは社会の構成員として「あたりまえの生活」を営むのに必要な水準を欠いている状態のことを指す。憲法二五条「健康で文化的な最低限度の生活」を保てていない状態がこれに該当する。しかし、それらとは別に現代には「文化的貧困」というものがある。例えば、経済的に貧しい若者の中には「貧乏だからコンビニ弁当しか食べられない」と言う者がいる。昔であれば、貧乏ならご飯とみそ汁だけで食いつないだものだ。もしくはそれに似たようなものを「自炊」してどうにか切り抜けたものである。どう考えても、今よりも昔のほうが貧乏の度合いは高い。むしろ昔の状況下においては、今の「コンビニ弁当」は非常に高価なものとさえ言えよう。にもかかわらず、「コンビニ弁当しか食べられない」状況を一部の現代人は「貧乏」と言う。すなわち、これは心もしくは感性の貧困なのである。豊かさの感覚がわからない心。他者依存的に豊かさを求めようとする心。「貧乏だからコンビニ弁当しか食べられない」という一言から、そのような少々ねじれた心的状態すなわち文化状況を指摘することができる。そうすると、憲法二五条「健康で文化的な最低限度の生活」は土台から成立しないことになる。なぜなら、すでに「文化」が貧しいのだから。\""
   ]
  },
  {
   "cell_type": "code",
   "execution_count": 91,
   "metadata": {},
   "outputs": [],
   "source": [
    "ref1 = \"現代社会には絶対的貧困と相対的貧困のほかに文化的貧困がある。それは他者依存的に豊かさを求める、ねじれた文化状況の中の心の貧困である。ゆえに現代では「健康で文化的な最低限度の生活」が土台から成立しない。\""
   ]
  },
  {
   "cell_type": "code",
   "execution_count": 92,
   "metadata": {},
   "outputs": [
    {
     "name": "stdout",
     "output_type": "stream",
     "text": [
      "現代日本では絶対的貧困と相対的貧困に加え、文化的貧困が問題視される。これは、心や感性が貧しく、「コンビニ弁当しか食べられない」ことを貧困と感じる状況を指し、憲法が保障する生活の基盤を失わせる。\n"
     ]
    }
   ],
   "source": [
    "summary = SummarizeDocument(client, example1)\n",
    "print(summary)"
   ]
  },
  {
   "cell_type": "code",
   "execution_count": 93,
   "metadata": {},
   "outputs": [
    {
     "data": {
      "text/plain": [
       "{'rouge1': Score(precision=0.5, recall=0.44776119402985076, fmeasure=0.4724409448818898),\n",
       " 'rouge2': Score(precision=0.1864406779661017, recall=0.16666666666666666, fmeasure=0.176),\n",
       " 'rougeL': Score(precision=0.36666666666666664, recall=0.3283582089552239, fmeasure=0.3464566929133858)}"
      ]
     },
     "execution_count": 93,
     "metadata": {},
     "output_type": "execute_result"
    }
   ],
   "source": [
    "CalculateROUGE(ref1, summary)"
   ]
  },
  {
   "cell_type": "code",
   "execution_count": 94,
   "metadata": {},
   "outputs": [],
   "source": [
    "scores = CalculateROUGE(ref1, summary)"
   ]
  },
  {
   "cell_type": "code",
   "execution_count": 95,
   "metadata": {},
   "outputs": [
    {
     "data": {
      "text/plain": [
       "dict_values([Score(precision=0.5, recall=0.44776119402985076, fmeasure=0.4724409448818898), Score(precision=0.1864406779661017, recall=0.16666666666666666, fmeasure=0.176), Score(precision=0.36666666666666664, recall=0.3283582089552239, fmeasure=0.3464566929133858)])"
      ]
     },
     "execution_count": 95,
     "metadata": {},
     "output_type": "execute_result"
    }
   ],
   "source": [
    "scores.values()"
   ]
  },
  {
   "cell_type": "code",
   "execution_count": 96,
   "metadata": {},
   "outputs": [
    {
     "data": {
      "text/plain": [
       "0.44776119402985076"
      ]
     },
     "execution_count": 96,
     "metadata": {},
     "output_type": "execute_result"
    }
   ],
   "source": [
    "# Extract precision, recall, and F1 score in float format\n",
    "scores['rouge1'].recall"
   ]
  },
  {
   "cell_type": "code",
   "execution_count": 103,
   "metadata": {},
   "outputs": [],
   "source": [
    "# Plot ROUGE score\n",
    "import matplotlib.pyplot as plt\n",
    "import numpy as np\n",
    "\n",
    "def PlotROUGEScore(scores):\n",
    "    \"\"\"\n",
    "    Plot ROUGE score\n",
    "    scores: is the ROUGE score in dict format\n",
    "    \"\"\"\n",
    "    fig, ax = plt.subplots(1, 3, figsize=(12, 5))\n",
    "    ax[0].bar(scores.keys(), [scores['rouge1'].precision, scores['rouge1'].recall, scores['rouge1'].fmeasure], color=['red', 'orange', 'blue'])\n",
    "    ax[0].set_title('ROUGE-1')\n",
    "    ax[0].set_ylim(0, 1)\n",
    "    ax[1].bar(scores.keys(), [scores['rouge2'].precision, scores['rouge2'].recall, scores['rouge2'].fmeasure], color=['red', 'orange', 'blue'])\n",
    "    ax[1].set_title('ROUGE-2')\n",
    "    ax[1].set_ylim(0, 1)\n",
    "    ax[2].bar(scores.keys(), [scores['rougeL'].precision, scores['rougeL'].recall, scores['rougeL'].fmeasure], color=['red', 'orange', 'blue'])\n",
    "    ax[2].set_title('ROUGE-L')\n",
    "    ax[2].set_ylim(0, 1)\n",
    "    return fig"
   ]
  },
  {
   "cell_type": "code",
   "execution_count": 98,
   "metadata": {},
   "outputs": [
    {
     "data": {
      "image/png": "[encoded data removed]",
      "text/plain": [
       "<Figure size 1200x500 with 3 Axes>"
      ]
     },
     "metadata": {},
     "output_type": "display_data"
    }
   ],
   "source": [
    "PlotROUGEScore(CalculateROUGE(ref1, summary))"
   ]
  },
  {
   "cell_type": "code",
   "execution_count": 101,
   "metadata": {},
   "outputs": [],
   "source": [
    "# Function: read text file\n",
    "def ReadTextFile(file_path):\n",
    "    \"\"\"\n",
    "    Read text file in Japanese\n",
    "    file_path: is the path to the text file\n",
    "    \"\"\"\n",
    "    with open(file_path, 'r', encoding=\"utf-8\") as file:\n",
    "        text = file.read()\n",
    "    return text"
   ]
  },
  {
   "cell_type": "code",
   "execution_count": 120,
   "metadata": {},
   "outputs": [
    {
     "name": "stdout",
     "output_type": "stream",
     "text": [
      "API is working, Hello World!\n",
      "0 現代日本では、「文化的貧困」が問題視されている。これは経済的に貧しい若者が「貧乏だからコンビニ弁当しか食べられない」と感じる状況からも明らかで、感性の貧困が原因とされる。これは豊かさの感覚がわからず、他者依存的に豊かさを求める心の状態を指し、憲法での「文化的な最低限度の生活」を土台から成立させない問題として浮上している。\n",
      "{'rouge1': Score(precision=0.4528301886792453, recall=0.7164179104477612, fmeasure=0.5549132947976879), 'rouge2': Score(precision=0.21904761904761905, recall=0.3484848484848485, fmeasure=0.26900584795321636), 'rougeL': Score(precision=0.330188679245283, recall=0.5223880597014925, fmeasure=0.40462427745664736)}\n",
      "Done with 0\n",
      "1 英語は世界共通語として重要ですが、「英語帝国主義」によるハンディキャップや表現の限界もあります。日本語の概念を英語で説明する困難さや英語支配の問題が指摘されています。\n",
      "{'rouge1': Score(precision=0.5, recall=0.4406779661016949, fmeasure=0.4684684684684685), 'rouge2': Score(precision=0.11764705882352941, recall=0.10344827586206896, fmeasure=0.11009174311926605), 'rougeL': Score(precision=0.28846153846153844, recall=0.2542372881355932, fmeasure=0.27027027027027023)}\n",
      "Done with 1\n"
     ]
    }
   ],
   "source": [
    "# For loop to summarize multiple documents\n",
    "client = ConnectToOpenAI(API_KEY_PATH)\n",
    "\n",
    "for i in range(0, 2):\n",
    "    # Read document and reference\n",
    "    document_path = \"Data/doc/doc-\" + str(i) + \".txt\"\n",
    "    ref_path = \"Data/ref/ref-\" + str(i) + \".txt\"\n",
    "    document = ReadTextFile(document_path)\n",
    "    reference = ReadTextFile(ref_path)\n",
    "\n",
    "    # summed ROUGE score in rouge_score format\n",
    "    summed_ROUGE = {\n",
    "    'rouge1': {'precision': 0.0, 'recall': 0.0, 'fmeasure': 0.0},\n",
    "    'rouge2': {'precision': 0.0, 'recall': 0.0, 'fmeasure': 0.0},\n",
    "    'rougeL': {'precision': 0.0, 'recall': 0.0, 'fmeasure': 0.0}\n",
    "    }\n",
    "\n",
    "    # Suumarize document\n",
    "    summary = SummarizeDocument(client, document)\n",
    "    print(i, summary) # Check the summary\n",
    "\n",
    "    # Calculate ROUGE score\n",
    "    scores = CalculateROUGE(reference, summary)\n",
    "    print(scores)\n",
    "\n",
    "    # Save ROUGE score plot\n",
    "    plot = PlotROUGEScore(scores)\n",
    "    plot.savefig(\"Data/plot/plot-\" + str(i) + \".png\")\n",
    "    plt.close()\n",
    "\n",
    "    # Save summary\n",
    "    with open(\"Data/sum/sum-\" + str(i) + \".txt\", 'w') as file:\n",
    "        file.write(summary)\n",
    "    print(\"Done with\", i)\n",
    "\n",
    "    # sum up ROUGE scores for each document\n",
    "    summed_ROUGE['rouge1']['precision'] += scores['rouge1'].precision\n",
    "    summed_ROUGE['rouge1']['recall'] += scores['rouge1'].recall\n",
    "    summed_ROUGE['rouge1']['fmeasure'] += scores['rouge1'].fmeasure\n",
    "    summed_ROUGE['rouge2']['precision'] += scores['rouge2'].precision\n",
    "    summed_ROUGE['rouge2']['recall'] += scores['rouge2'].recall\n",
    "    summed_ROUGE['rouge2']['fmeasure'] += scores['rouge2'].fmeasure\n",
    "    summed_ROUGE['rougeL']['precision'] += scores['rougeL'].precision\n",
    "    summed_ROUGE['rougeL']['recall'] += scores['rougeL'].recall\n",
    "    summed_ROUGE['rougeL']['fmeasure'] += scores['rougeL'].fmeasure"
   ]
  },
  {
   "cell_type": "code",
   "execution_count": 121,
   "metadata": {},
   "outputs": [
    {
     "data": {
      "image/png": "[encoded data removed]",
      "text/plain": [
       "<Figure size 1200x500 with 3 Axes>"
      ]
     },
     "metadata": {},
     "output_type": "display_data"
    }
   ],
   "source": [
    "# Plot summed ROUGE score\n",
    "# Calculate average ROUGE score (n=10)\n",
    "summed_ROUGE['rouge1']['precision'] /= 10\n",
    "summed_ROUGE['rouge1']['recall'] /= 10\n",
    "summed_ROUGE['rouge1']['fmeasure'] /= 10\n",
    "summed_ROUGE['rouge2']['precision'] /= 10\n",
    "summed_ROUGE['rouge2']['recall'] /= 10\n",
    "summed_ROUGE['rouge2']['fmeasure'] /= 10\n",
    "summed_ROUGE['rougeL']['precision'] /= 10\n",
    "summed_ROUGE['rougeL']['recall'] /= 10\n",
    "summed_ROUGE['rougeL']['fmeasure'] /= 10\n",
    "\n",
    "# Plot summed ROUGE score in dict format\n",
    "fig, ax = plt.subplots(1, 3, figsize=(12, 5))\n",
    "ax[0].bar(scores.keys(), [summed_ROUGE['rouge1']['precision'], summed_ROUGE['rouge1']['recall'], summed_ROUGE['rouge1']['fmeasure']], color=['red', 'orange', 'blue'])\n",
    "ax[0].set_title('ROUGE-1')\n",
    "ax[0].set_ylim(0, 1)\n",
    "ax[1].bar(scores.keys(), [summed_ROUGE['rouge2']['precision'], summed_ROUGE['rouge2']['recall'], summed_ROUGE['rouge2']['fmeasure']], color=['red', 'orange', 'blue'])\n",
    "ax[1].set_title('ROUGE-2')\n",
    "ax[1].set_ylim(0, 1)\n",
    "ax[2].bar(scores.keys(), [summed_ROUGE['rougeL']['precision'], summed_ROUGE['rougeL']['recall'], summed_ROUGE['rougeL']['fmeasure']], color=['red', 'orange', 'blue'])\n",
    "ax[2].set_title('ROUGE-L')\n",
    "ax[2].set_ylim(0, 1)\n",
    "fig.suptitle(\"Average ROUGE Score\")\n",
    "fig.savefig(\"Data/plot/plot-sum.png\")\n"
   ]
  }
 ],
 "metadata": {
  "kernelspec": {
   "display_name": "Python 3",
   "language": "python",
   "name": "python3"
  },
  "language_info": {
   "codemirror_mode": {
    "name": "ipython",
    "version": 3
   },
   "file_extension": ".py",
   "mimetype": "text/x-python",
   "name": "python",
   "nbconvert_exporter": "python",
   "pygments_lexer": "ipython3",
   "version": "3.11.9"
  }
 },
 "nbformat": 4,
 "nbformat_minor": 2
}
